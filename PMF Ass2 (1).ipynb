{
 "cells": [
  {
   "cell_type": "code",
   "execution_count": null,
   "id": "f6eeb9fa-2c3c-47c5-930a-7b23e05dfa00",
   "metadata": {},
   "outputs": [],
   "source": [
    "Q1: What are the Probability Mass Function (PMF) and Probability Density Function (PDF)? Explain with\n",
    "an example."
   ]
  },
  {
   "cell_type": "markdown",
   "id": "164fd144-06b6-41d6-a429-25787e216c95",
   "metadata": {},
   "source": [
    "PMF is used discrete random variable A Discrete random variable is one that takes on a countable number of distinct values. ex=P(X=x), is defined for x=1,2,3,4,5,6\n",
    "P(X=x)=1/6 for x= 1,2,3,4,5,6\n",
    "\n",
    "PDF is used with continuous random variables. A continuous random variable can take on any value within a given range."
   ]
  },
  {
   "cell_type": "code",
   "execution_count": null,
   "id": "031db68c-ebd5-47fb-964c-42aa1d06d725",
   "metadata": {},
   "outputs": [],
   "source": [
    "Q2: What is Cumulative Density Function (CDF)? Explain with an example. Why CDF is used?"
   ]
  },
  {
   "cell_type": "markdown",
   "id": "fb73c881-5920-4283-b813-c048374cac1e",
   "metadata": {},
   "source": [
    "The CDF of a random variable X is a Function F(x) that gives the probability that X will take \n",
    "a value less than or equal to x Mathematically, for a random vaiable X:\n",
    "F(x)=P(X < x) p is denoted by probability\n",
    "\n",
    "CDF USED\n",
    "Probability Calculation\n",
    "Comparison\n",
    "Quantile Determination\n",
    "Modeling\n"
   ]
  },
  {
   "cell_type": "code",
   "execution_count": null,
   "id": "839b0bd7-de88-4cd0-b420-6686c23b3bd2",
   "metadata": {},
   "outputs": [],
   "source": [
    "Q3: What are some examples of situations where the normal distribution might be used as a model?\n",
    "Explain how the parameters of the normal distribution relate to the shape of the distribution."
   ]
  },
  {
   "cell_type": "code",
   "execution_count": null,
   "id": "692e0707-6574-4be3-ada2-b7ed44e58046",
   "metadata": {},
   "outputs": [],
   "source": [
    "Height of Adults,IQ scores,Measurement Errors,Stock Market Return Blood Pressure,\n",
    "Test Score in large exams\n",
    "Parameters and their Relation to the Distribution's shape:\n",
    "mean\n",
    "Standard Deviation"
   ]
  },
  {
   "cell_type": "code",
   "execution_count": null,
   "id": "ac191351-ec04-4265-a9d5-b51a99b51c61",
   "metadata": {},
   "outputs": [],
   "source": [
    "Q4: Explain the importance of Normal Distribution. Give a few real-life examples of Normal\n",
    "Distribution."
   ]
  },
  {
   "cell_type": "markdown",
   "id": "9685fc55-2040-4a43-8e37-fc808983976d",
   "metadata": {},
   "source": [
    "importance of Normal Distribution\n",
    "central role in statistics\n",
    "1.CLT 2.Basis for parameter tests\n",
    "\n",
    "2. Ease of Use\n",
    "1 .Mathematical properties\n",
    "2.standardization \n",
    "\n",
    "3.Real-World Relevance\n",
    "1.natural occurance\n",
    "2. Error and Noise\n",
    "\n",
    "real-life examples of Normal\n",
    "Distribution.\n",
    "1.Human height\n",
    "2.IQ Scores\n",
    "3.Measurement Errors\n",
    "4.Financial Market return\n",
    "5.Standardized Test Scores\n",
    "6.Quality control"
   ]
  },
  {
   "cell_type": "markdown",
   "id": "4fd23bb0-523d-4860-906d-586699ab9c85",
   "metadata": {},
   "source": [
    "Q5: What is Bernaulli Distribution? Give an Example. What is the difference between Bernoulli\n",
    "Distribution and Binomial Distribution?"
   ]
  },
  {
   "cell_type": "markdown",
   "id": "797caf26-904e-4fac-bd4a-7e0fa2661e18",
   "metadata": {},
   "source": [
    "Bernaulli Distribution is discrete probability Distribution for a random variable that has exactly two possible outcomes:\"success\" and \"Failure\"\n",
    "\n",
    "difference between Bernoulli\n",
    "Distribution and Binomial Distribution\n",
    "1) Bernoulli\n",
    "2) binomial\n",
    "\n",
    "2. PMF\n",
    "3.Parameters\n",
    "4. Applications"
   ]
  },
  {
   "cell_type": "markdown",
   "id": "b22d16ea-7dba-4d69-ab0f-5fc796e8942d",
   "metadata": {},
   "source": [
    "Q6. Consider a dataset with a mean of 50 and a standard deviation of 10. If we assume that the dataset\n",
    "is normally distributed, what is the probability that a randomly selected observation will be greater\n",
    "than 60? Use the appropriate formula and show your calculations."
   ]
  },
  {
   "cell_type": "code",
   "execution_count": null,
   "id": "65010dd3-c9be-4b39-8096-a238f53dd7cf",
   "metadata": {},
   "outputs": [],
   "source": [
    "Use the Z-score formula and the standard normal distribution table.\n",
    "\n",
    "calculate Z=60-50/10 = 10/10=1 Z=0.8413"
   ]
  },
  {
   "cell_type": "code",
   "execution_count": null,
   "id": "c8636055-a83c-4703-95a1-7caed90017a7",
   "metadata": {},
   "outputs": [],
   "source": [
    "Q7: Explain uniform Distribution with an example."
   ]
  },
  {
   "cell_type": "markdown",
   "id": "c9d85198-8386-4fab-91e1-6a5044009976",
   "metadata": {},
   "source": [
    "unifrom distribution is a type of probability distribution where every outcome in given range has an equal chance of occurring.\n",
    "1.Discrete Uniform Distribution \n",
    "ex=Rolling a Die (1,2,3,4,5,6) is the same number,1/6\n",
    "2.Continuous Unifrom Distribution\n",
    "ex= Random Selection on a line segment"
   ]
  },
  {
   "cell_type": "code",
   "execution_count": null,
   "id": "9fa3c059-b802-491c-8059-453ee6a06fd5",
   "metadata": {},
   "outputs": [],
   "source": [
    "Q8: What is the z score? State the importance of the z score."
   ]
  },
  {
   "cell_type": "markdown",
   "id": "ee6f3047-2cb9-435c-b0bf-1f7ccbf9adc6",
   "metadata": {},
   "source": [
    "The z-score is a statistical measure that describes the position of a data point in relation to the mean of data set.\n",
    "\n",
    "Importance of the z score.\n",
    "1.Standardization\n",
    "2.Outlier Detection\n",
    "3.Probability calculation\n",
    "4.Normalization \n",
    "5.Comparative Analysis\n",
    "Ex=z=85-70/10=1.5"
   ]
  },
  {
   "cell_type": "code",
   "execution_count": null,
   "id": "4dd5b2c1-2afb-4c57-8e7a-94350642a921",
   "metadata": {},
   "outputs": [],
   "source": [
    "Q9: What is Central Limit Theorem(CLT)? State the significance of the Central Limit Theorem."
   ]
  },
  {
   "cell_type": "markdown",
   "id": "8b7a8aec-b00b-4e3f-ae48-3887d73cd3a7",
   "metadata": {},
   "source": [
    "CLT that the distribution of the sample mean(or sum) of a sufficient large number of independent and identically distributed random variable each with a finite mean and variance, will approximate a normal (Gaussian) distribution.\n",
    "Significance:\n",
    "1. Foundation for Inferential Statistics:\n",
    "2. Applicability to Various Distribution\n",
    "3. Simplification of Analysis\n",
    "4. justification for Standardization\n",
    "5. Real world Applicatins"
   ]
  },
  {
   "cell_type": "code",
   "execution_count": null,
   "id": "6f19baa7-c044-4d25-a6b9-4b3fb11dfc80",
   "metadata": {},
   "outputs": [],
   "source": [
    "Q10: State the assumptions of the Central Limit Theorem."
   ]
  },
  {
   "cell_type": "code",
   "execution_count": null,
   "id": "2a6567ab-76ba-4480-9f5e-82cd3b35b151",
   "metadata": {},
   "outputs": [],
   "source": [
    "1.Sample Size\n",
    "2.Independence\n",
    "3.Finite Variance"
   ]
  },
  {
   "cell_type": "code",
   "execution_count": null,
   "id": "2ee32d26-61cc-4cb3-b73f-dc9638009c78",
   "metadata": {},
   "outputs": [],
   "source": []
  },
  {
   "cell_type": "code",
   "execution_count": null,
   "id": "fedc0789-ce7b-4220-a91e-169f03cbeb91",
   "metadata": {},
   "outputs": [],
   "source": []
  },
  {
   "cell_type": "code",
   "execution_count": null,
   "id": "056a09b1-3894-473c-b7bd-7553674931d6",
   "metadata": {},
   "outputs": [],
   "source": []
  },
  {
   "cell_type": "code",
   "execution_count": null,
   "id": "1cebf78a-a1f0-4303-a11e-c1bb73629655",
   "metadata": {},
   "outputs": [],
   "source": []
  },
  {
   "cell_type": "code",
   "execution_count": null,
   "id": "4917c18b-3d87-4338-a196-40cb04ade7b5",
   "metadata": {},
   "outputs": [],
   "source": []
  },
  {
   "cell_type": "code",
   "execution_count": null,
   "id": "db7953f7-117d-46d9-aff0-cee9b96f9816",
   "metadata": {},
   "outputs": [],
   "source": []
  },
  {
   "cell_type": "code",
   "execution_count": null,
   "id": "f2f787da-d5c5-441b-8f0d-e424edfc5220",
   "metadata": {},
   "outputs": [],
   "source": []
  },
  {
   "cell_type": "code",
   "execution_count": null,
   "id": "913566ad-78e3-4094-a64a-65892d8ce940",
   "metadata": {},
   "outputs": [],
   "source": []
  },
  {
   "cell_type": "code",
   "execution_count": null,
   "id": "a7d3bbd1-012c-4273-a425-eaadddf40939",
   "metadata": {},
   "outputs": [],
   "source": []
  },
  {
   "cell_type": "code",
   "execution_count": null,
   "id": "6d93267a-78b3-4b26-aaab-ec631f2acf44",
   "metadata": {},
   "outputs": [],
   "source": []
  },
  {
   "cell_type": "code",
   "execution_count": null,
   "id": "2111b0d1-ce8a-41fb-b84b-199e41ff519c",
   "metadata": {},
   "outputs": [],
   "source": []
  },
  {
   "cell_type": "code",
   "execution_count": null,
   "id": "ba7fb963-8877-43c7-867b-641e12b3eb86",
   "metadata": {},
   "outputs": [],
   "source": []
  },
  {
   "cell_type": "code",
   "execution_count": null,
   "id": "c93e0744-9c0a-476f-9f43-d340d15cfa39",
   "metadata": {},
   "outputs": [],
   "source": []
  },
  {
   "cell_type": "code",
   "execution_count": null,
   "id": "529ab572-f6b9-4eb2-936c-9425564a049c",
   "metadata": {},
   "outputs": [],
   "source": []
  },
  {
   "cell_type": "code",
   "execution_count": null,
   "id": "a3b369c6-7410-4e7c-9338-c9344ee7f86f",
   "metadata": {},
   "outputs": [],
   "source": []
  },
  {
   "cell_type": "code",
   "execution_count": null,
   "id": "3eccf058-caac-4e46-b28d-f5e45cfc3509",
   "metadata": {},
   "outputs": [],
   "source": []
  },
  {
   "cell_type": "code",
   "execution_count": null,
   "id": "b4a39fa8-c19f-4398-8220-2d9f8ff21368",
   "metadata": {},
   "outputs": [],
   "source": []
  },
  {
   "cell_type": "code",
   "execution_count": null,
   "id": "775b6d35-fe84-4d4d-9857-3dfceecc62e6",
   "metadata": {},
   "outputs": [],
   "source": []
  },
  {
   "cell_type": "code",
   "execution_count": null,
   "id": "86026131-83ec-4958-8dcc-3e165adc852f",
   "metadata": {},
   "outputs": [],
   "source": []
  },
  {
   "cell_type": "code",
   "execution_count": null,
   "id": "b93fe28b-53bc-4793-9718-79a144be2327",
   "metadata": {},
   "outputs": [],
   "source": []
  },
  {
   "cell_type": "code",
   "execution_count": null,
   "id": "e3aae6cc-1f8f-471b-899d-865596cf2620",
   "metadata": {},
   "outputs": [],
   "source": []
  },
  {
   "cell_type": "code",
   "execution_count": null,
   "id": "70f0c37e-1f40-4a7c-8c6a-5d85ffb58c13",
   "metadata": {},
   "outputs": [],
   "source": []
  }
 ],
 "metadata": {
  "kernelspec": {
   "display_name": "Python 3 (ipykernel)",
   "language": "python",
   "name": "python3"
  },
  "language_info": {
   "codemirror_mode": {
    "name": "ipython",
    "version": 3
   },
   "file_extension": ".py",
   "mimetype": "text/x-python",
   "name": "python",
   "nbconvert_exporter": "python",
   "pygments_lexer": "ipython3",
   "version": "3.10.8"
  }
 },
 "nbformat": 4,
 "nbformat_minor": 5
}
